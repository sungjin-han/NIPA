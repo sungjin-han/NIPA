{
 "cells": [
  {
   "cell_type": "code",
   "execution_count": 1,
   "metadata": {},
   "outputs": [
    {
     "name": "stdout",
     "output_type": "stream",
     "text": [
      "str1이 str2보다 앞에 있습니다.\n",
      "num1이 num2보다 큽니다.\n"
     ]
    }
   ],
   "source": [
    "# 문자열 비교\n",
    "str1 = \"apple\"\n",
    "str2 = \"banana\"\n",
    "\n",
    "if str1 < str2:\n",
    "    print(\"str1이 str2보다 앞에 있습니다.\")\n",
    "elif str1 > str2:\n",
    "    print(\"str1이 str2보다 뒤에 있습니다.\")\n",
    "else:\n",
    "    print(\"str1과 str2가 같습니다.\")\n",
    "\n",
    "# 숫자 비교\n",
    "num1 = 10\n",
    "num2 = 5\n",
    "\n",
    "if num1 < num2:\n",
    "    print(\"num1이 num2보다 작습니다.\")\n",
    "elif num1 > num2:\n",
    "    print(\"num1이 num2보다 큽니다.\")\n",
    "else:\n",
    "    print(\"num1과 num2가 같습니다.\")"
   ]
  },
  {
   "cell_type": "markdown",
   "metadata": {},
   "source": [
    "문자열은 일련의 문자로 구성되어 있으며, 이러한 문자들은 여러 가지 방식으로 정렬될 수 있습니다. \"a\", \"b\", \"c\"와 같이 순서대로 정렬되지만, \"ab\", \"ba\", \"abc\"와 같이 부분적으로 정렬될 수도 있습니다. 따라서 문자열의 크기를 비교하는 것은 상대적으로 복잡합니다.\n",
    "반면에 숫자는 수치적으로 정렬되기 때문에 비교 연산이 간단합니다. 숫자의 크기 비교는 단순한 수학적 비교로 해결됩니다.\n",
    "문자 간 비교도 문자열과 마찬가지로 문자의 유니코드 값과 정렬 순서에 따라 달라지므로, 두 문자 간의 크기를 비교하는 것은 번거로울 수 있습니다."
   ]
  }
 ],
 "metadata": {
  "kernelspec": {
   "display_name": "Python 3",
   "language": "python",
   "name": "python3"
  },
  "language_info": {
   "codemirror_mode": {
    "name": "ipython",
    "version": 3
   },
   "file_extension": ".py",
   "mimetype": "text/x-python",
   "name": "python",
   "nbconvert_exporter": "python",
   "pygments_lexer": "ipython3",
   "version": "3.11.4"
  },
  "orig_nbformat": 4
 },
 "nbformat": 4,
 "nbformat_minor": 2
}
