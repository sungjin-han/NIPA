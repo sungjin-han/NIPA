{
 "cells": [
  {
   "cell_type": "markdown",
   "metadata": {},
   "source": [
    "data_type 예제 1번"
   ]
  },
  {
   "cell_type": "code",
   "execution_count": 4,
   "metadata": {},
   "outputs": [
    {
     "name": "stdout",
     "output_type": "stream",
     "text": [
      "서울역행 207버스가 7분 후 도착합니다.\n",
      "인천공항행 405번 버스가 3분 후 도착합니다.\n"
     ]
    }
   ],
   "source": [
    "seoul_bus_number = 207\n",
    "seoul_destination = \"서울역\"\n",
    "seoul_arrival_time = 7\n",
    "\n",
    "incheon_bus_number = 405\n",
    "incheon_destination = \"인천공항\"\n",
    "incheon_arrival_time = 3\n",
    "\n",
    "seoul_message = f\"{seoul_destination}행 {seoul_bus_number}버스가 {seoul_arrival_time}분 후 도착합니다.\"\n",
    "incheon_message = f\"{incheon_destination}행 {incheon_bus_number}번 버스가 {incheon_arrival_time}분 후 도착합니다.\"\n",
    "\n",
    "print(seoul_message)\n",
    "print(incheon_message)"
   ]
  },
  {
   "cell_type": "markdown",
   "metadata": {},
   "source": [
    "data_type 예제 2번"
   ]
  },
  {
   "cell_type": "code",
   "execution_count": 5,
   "metadata": {},
   "outputs": [
    {
     "name": "stdout",
     "output_type": "stream",
     "text": [
      "True\n"
     ]
    }
   ],
   "source": [
    "arrival_time = int(input(\"버스의 도착 시간을 입력하세요: \"))\n",
    "is_arrive_later = arrival_time < 5\n",
    "print(is_arrive_later)"
   ]
  },
  {
   "cell_type": "markdown",
   "metadata": {},
   "source": [
    "data_type 예제 3번"
   ]
  },
  {
   "cell_type": "code",
   "execution_count": 6,
   "metadata": {},
   "outputs": [
    {
     "name": "stdout",
     "output_type": "stream",
     "text": [
      "207\n",
      "<class 'int'>\n",
      "서울역\n",
      "<class 'str'>\n",
      "7\n",
      "<class 'int'>\n",
      "405\n",
      "<class 'int'>\n",
      "인천공항\n",
      "<class 'str'>\n",
      "3\n",
      "<class 'int'>\n",
      "서울역행 207버스가 7분 후 도착합니다.\n",
      "<class 'str'>\n",
      "인천공항행 405번 버스가 3분 후 도착합니다.\n",
      "<class 'str'>\n",
      "4\n",
      "<class 'int'>\n",
      "True\n",
      "<class 'bool'>\n"
     ]
    }
   ],
   "source": [
    "print(seoul_bus_number)\n",
    "print(type(seoul_bus_number))\n",
    "print(seoul_destination)\n",
    "print(type(seoul_destination))\n",
    "print(seoul_arrival_time)\n",
    "print(type(seoul_arrival_time))\n",
    "print(incheon_bus_number)\n",
    "print(type(incheon_bus_number))\n",
    "print(incheon_destination)\n",
    "print(type(incheon_destination))\n",
    "print(incheon_arrival_time)\n",
    "print(type(incheon_arrival_time))\n",
    "print(seoul_message)\n",
    "print(type(seoul_message))\n",
    "print(incheon_message)\n",
    "print(type(incheon_message))\n",
    "print(arrival_time)\n",
    "print(type(arrival_time))\n",
    "print(is_arrive_later)\n",
    "print(type(is_arrive_later))"
   ]
  },
  {
   "cell_type": "markdown",
   "metadata": {},
   "source": [
    "def 예제 1번"
   ]
  },
  {
   "cell_type": "code",
   "execution_count": 7,
   "metadata": {},
   "outputs": [
    {
     "name": "stdout",
     "output_type": "stream",
     "text": [
      "덧셈 결과: 8.0\n",
      "뺄셈 결과: -2.0\n",
      "나눗셈 결과: 0.6\n",
      "곱셈 결과: 15.0\n"
     ]
    }
   ],
   "source": [
    "def addition(a, b):\n",
    "    return a + b\n",
    "\n",
    "def subtraction(a, b):\n",
    "    return a - b\n",
    "\n",
    "def division(a, b):\n",
    "    return a / b\n",
    "\n",
    "def multiplication(a, b):\n",
    "    return a * b\n",
    "\n",
    "a = float(input(\"첫 번째 숫자를 입력하세요: \"))\n",
    "b = float(input(\"두 번째 숫자를 입력하세요: \"))\n",
    "\n",
    "print(\"덧셈 결과:\", addition(a, b))\n",
    "print(\"뺄셈 결과:\", subtraction(a, b))\n",
    "print(\"나눗셈 결과:\", division(a, b))\n",
    "print(\"곱셈 결과:\", multiplication(a, b))"
   ]
  },
  {
   "cell_type": "markdown",
   "metadata": {},
   "source": [
    "def 예제 2번"
   ]
  },
  {
   "cell_type": "code",
   "execution_count": 13,
   "metadata": {},
   "outputs": [
    {
     "name": "stdout",
     "output_type": "stream",
     "text": [
      "학생 관리 프로그램을 시작합니다.\n",
      "추가된 학생들의 이름:\n",
      "김김김\n",
      "이이이\n",
      "박박박\n",
      "한한한 학생은 등록되어 있지 않습니다.\n",
      "김김김 학생의 이름이 삭제되었습니다.\n",
      "추가된 학생들의 이름:\n",
      "이이이\n",
      "박박박\n",
      "프로그램을 종료합니다.\n"
     ]
    }
   ],
   "source": [
    "student_names = []\n",
    "\n",
    "def add_student():\n",
    "    while True:\n",
    "        name = input(\"추가할 학생의 이름을 입력하세요 (종료하려면 '끝'을 입력하세요): \")\n",
    "        if name == \"끝\":\n",
    "            break\n",
    "        student_names.append(name)\n",
    "\n",
    "def print_students():\n",
    "    print(\"추가된 학생들의 이름:\")\n",
    "    for name in student_names:\n",
    "        print(name)\n",
    "\n",
    "def get_valid_input():\n",
    "    while True:\n",
    "        try:\n",
    "            option = int(input(\"1: 학생 이름 추가 | 2: 추가된 학생들 보기 | 3: 학생 이름 삭제 | 4: 종료\\n입력해주세요: \"))\n",
    "            if option in [1, 2, 3, 4]:\n",
    "                return option\n",
    "            else:\n",
    "                print(\"잘못된 숫자를 입력하였습니다. 다시 입력해주세요.\")\n",
    "        except ValueError:\n",
    "            print(\"잘못된 입력 형식입니다. 숫자를 입력해주세요.\")\n",
    "\n",
    "def delete_student():\n",
    "    while True:\n",
    "        name_to_delete = input(\"삭제할 학생의 이름을 입력하세요 (종료하려면 '끝'을 입력하세요): \")\n",
    "        if name_to_delete == \"끝\":\n",
    "            break\n",
    "        if name_to_delete in student_names:\n",
    "            student_names.remove(name_to_delete)\n",
    "            print(f\"{name_to_delete} 학생의 이름이 삭제되었습니다.\")\n",
    "        else:\n",
    "            print(f\"{name_to_delete} 학생은 등록되어 있지 않습니다.\")\n",
    "\n",
    "def main():\n",
    "    print(\"학생 관리 프로그램을 시작합니다.\")\n",
    "    while True:\n",
    "        option = get_valid_input()\n",
    "        if option == 1:\n",
    "            add_student()\n",
    "        elif option == 2:\n",
    "            print_students()\n",
    "        elif option == 3:\n",
    "            delete_student()\n",
    "        else:\n",
    "            print_students()\n",
    "            print(\"프로그램을 종료합니다.\")\n",
    "            break\n",
    "\n",
    "if __name__ == \"__main__\":\n",
    "    main()"
   ]
  },
  {
   "cell_type": "markdown",
   "metadata": {},
   "source": [
    "if_for_while 예제 1번"
   ]
  },
  {
   "cell_type": "code",
   "execution_count": 10,
   "metadata": {},
   "outputs": [
    {
     "name": "stdout",
     "output_type": "stream",
     "text": [
      "리스트에서 홀수는: [1, 3, 5, 7, 15, 19, 23, 37, 41]\n",
      "리스트에서 짝수는: [0, 20, 40]\n"
     ]
    }
   ],
   "source": [
    "num_list = [1, 5, 3, 19, 7, 0, 40, 15, 41]\n",
    "\n",
    "list = num_list + [20, 37, 23]\n",
    "\n",
    "list.sort()\n",
    "\n",
    "odd_numbers = [num for num in list if num % 2 == 1]\n",
    "even_numbers = [num for num in list if num % 2 == 0]\n",
    "\n",
    "print(\"리스트에서 홀수는:\", odd_numbers)\n",
    "print(\"리스트에서 짝수는:\", even_numbers)"
   ]
  },
  {
   "cell_type": "markdown",
   "metadata": {},
   "source": [
    "if_for_while 예제 2번"
   ]
  },
  {
   "cell_type": "code",
   "execution_count": 8,
   "metadata": {},
   "outputs": [
    {
     "name": "stdout",
     "output_type": "stream",
     "text": [
      "*\n",
      "**\n",
      "***\n",
      "****\n",
      "*****\n",
      "******\n",
      "*******\n",
      "********\n"
     ]
    }
   ],
   "source": [
    "def print_star_pattern(rows):\n",
    "    for i in range(1, rows + 1):\n",
    "        print(\"*\" * i)\n",
    "\n",
    "num_rows = 8\n",
    "\n",
    "print_star_pattern(num_rows)"
   ]
  },
  {
   "cell_type": "markdown",
   "metadata": {},
   "source": [
    "Operator 예제 1번"
   ]
  },
  {
   "cell_type": "code",
   "execution_count": 11,
   "metadata": {},
   "outputs": [
    {
     "name": "stdout",
     "output_type": "stream",
     "text": [
      "상반기 정기 모임은 1월에 하반기 정기 모임은 9월에 만납니다.\n"
     ]
    }
   ],
   "source": [
    "import random\n",
    "\n",
    "def generate_meeting_dates():\n",
    "    first_half = random.randint(1, 6)\n",
    "    second_half = random.randint(7, 12)\n",
    "    return first_half, second_half\n",
    "\n",
    "def print_meeting_dates(first_half, second_half):\n",
    "    print(f\"상반기 정기 모임은 {first_half}월에 하반기 정기 모임은 {second_half}월에 만납니다.\")\n",
    "\n",
    "first_meeting, second_meeting = generate_meeting_dates()\n",
    "\n",
    "print_meeting_dates(first_meeting, second_meeting)"
   ]
  },
  {
   "cell_type": "markdown",
   "metadata": {},
   "source": [
    "slicing 예제 1번"
   ]
  },
  {
   "cell_type": "code",
   "execution_count": 12,
   "metadata": {},
   "outputs": [
    {
     "name": "stdout",
     "output_type": "stream",
     "text": [
      "The new train name for EFFINO rail is EFF26train.\n"
     ]
    }
   ],
   "source": [
    "def generate_train_name(word):\n",
    "    part1 = word[:3]\n",
    "\n",
    "    f_count = word.count('F')\n",
    "    \n",
    "    total_chars = len(word)\n",
    "    \n",
    "    new_name = part1 + str(f_count) + str(total_chars) + 'BUS'\n",
    "    new_name = new_name.replace('BUS', 'TRAIN')\n",
    "    \n",
    "    new_name = new_name.replace('TRAIN', 'train')\n",
    "\n",
    "    return new_name\n",
    "\n",
    "word = \"EFFINO\"\n",
    "\n",
    "train_name = generate_train_name(word)\n",
    "\n",
    "print(f\"The new train name for {word} rail is {train_name}.\")"
   ]
  }
 ],
 "metadata": {
  "kernelspec": {
   "display_name": "Python 3",
   "language": "python",
   "name": "python3"
  },
  "language_info": {
   "codemirror_mode": {
    "name": "ipython",
    "version": 3
   },
   "file_extension": ".py",
   "mimetype": "text/x-python",
   "name": "python",
   "nbconvert_exporter": "python",
   "pygments_lexer": "ipython3",
   "version": "3.11.4"
  },
  "orig_nbformat": 4
 },
 "nbformat": 4,
 "nbformat_minor": 2
}
